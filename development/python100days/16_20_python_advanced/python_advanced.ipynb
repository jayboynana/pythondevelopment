{
 "cells": [
  {
   "cell_type": "markdown",
   "source": [
    "### 函数进阶使用方法"
   ],
   "metadata": {
    "collapsed": false
   },
   "id": "6d1d82e4d740506d"
  },
  {
   "cell_type": "code",
   "outputs": [
    {
     "data": {
      "text/plain": "[4, 16, 36, 64]"
     },
     "execution_count": 1,
     "metadata": {},
     "output_type": "execute_result"
    }
   ],
   "source": [
    "# lambda,filter,map\n",
    "items = list(map(lambda x:x**2,filter(lambda x:x%2==0,range(1,10))))\n",
    "items"
   ],
   "metadata": {
    "collapsed": false,
    "ExecuteTime": {
     "end_time": "2024-02-26T07:38:52.959102800Z",
     "start_time": "2024-02-26T07:38:52.938302100Z"
    }
   },
   "id": "374867acb6a7da6f",
   "execution_count": 1
  },
  {
   "cell_type": "markdown",
   "source": [
    "#### 装饰器函数"
   ],
   "metadata": {
    "collapsed": false
   },
   "id": "2b946f5299494eb"
  },
  {
   "cell_type": "code",
   "outputs": [],
   "source": [
    "from functools import wraps\n",
    "from time import time,sleep"
   ],
   "metadata": {
    "collapsed": false,
    "ExecuteTime": {
     "end_time": "2024-02-28T08:13:41.523980100Z",
     "start_time": "2024-02-28T08:13:41.503927800Z"
    }
   },
   "id": "fe4907ceb5f7bc46",
   "execution_count": 4
  },
  {
   "cell_type": "code",
   "outputs": [],
   "source": [
    "def record(output):\n",
    "    '''可以参数化的装饰器'''\n",
    "    def decorator(func):\n",
    "        \n",
    "        @wraps(func)\n",
    "        def wrapper(*args, **kwargs):\n",
    "            start = time()\n",
    "            result = func(*args, **kwargs)\n",
    "            output(func.__name__, time()-start)\n",
    "            return result\n",
    "        return wrapper\n",
    "    \n",
    "    return decorator"
   ],
   "metadata": {
    "collapsed": false,
    "ExecuteTime": {
     "end_time": "2024-02-28T08:23:31.276827400Z",
     "start_time": "2024-02-28T08:23:31.264030400Z"
    }
   },
   "id": "90e8d843c39b9fee",
   "execution_count": 13
  },
  {
   "cell_type": "code",
   "outputs": [
    {
     "name": "stdout",
     "output_type": "stream",
     "text": [
      "hello world!\n",
      "1.0001490116119385\n",
      "<built-in method __sizeof__ of function object at 0x000001F3777DDAB0> 1.0001826286315918\n"
     ]
    }
   ],
   "source": [
    "@record(print)\n",
    "def pp():\n",
    "    start = time()\n",
    "    sleep(1)\n",
    "    end = time()\n",
    "    print('hello world!')\n",
    "    print(end-start)\n",
    "pp()"
   ],
   "metadata": {
    "collapsed": false,
    "ExecuteTime": {
     "end_time": "2024-02-28T08:33:14.478310500Z",
     "start_time": "2024-02-28T08:33:13.461471100Z"
    }
   },
   "id": "5ed9a76799854606",
   "execution_count": 21
  },
  {
   "cell_type": "code",
   "outputs": [],
   "source": [],
   "metadata": {
    "collapsed": false
   },
   "id": "1cbf68da9ce149fa"
  },
  {
   "cell_type": "markdown",
   "source": [
    "#### 混入(Mixin)"
   ],
   "metadata": {
    "collapsed": false
   },
   "id": "a8fdf8da7a294949"
  },
  {
   "cell_type": "code",
   "outputs": [],
   "source": [
    "# 例子：自定义字典限制只有在指定的key不存在时才能在字典中设置键值对\n",
    "class SetOnceMappingMixin:\n",
    "    \"\"\"自定义混入类\"\"\"\n",
    "    __slots__ = ()\n",
    "    def __setitem__(self, key, value):\n",
    "        if key in self:\n",
    "            raise KeyError(str(key)+' is already exist!')\n",
    "        return super().__setitem__(key,value)"
   ],
   "metadata": {
    "collapsed": false,
    "ExecuteTime": {
     "end_time": "2024-03-02T07:24:03.365971500Z",
     "start_time": "2024-03-02T07:24:03.356994900Z"
    }
   },
   "id": "ec64568291fbb55f",
   "execution_count": 12
  },
  {
   "cell_type": "code",
   "outputs": [],
   "source": [
    "class SetOnceDict(SetOnceMappingMixin,dict):\n",
    "    pass"
   ],
   "metadata": {
    "collapsed": false,
    "ExecuteTime": {
     "end_time": "2024-03-02T07:24:04.827956Z",
     "start_time": "2024-03-02T07:24:04.818979Z"
    }
   },
   "id": "74f4123366d668cf",
   "execution_count": 13
  },
  {
   "cell_type": "code",
   "outputs": [],
   "source": [
    "my_dict = SetOnceDict()"
   ],
   "metadata": {
    "collapsed": false,
    "ExecuteTime": {
     "end_time": "2024-03-02T07:24:05.452221100Z",
     "start_time": "2024-03-02T07:24:05.444240500Z"
    }
   },
   "id": "a9b89ed8c8e84ad3",
   "execution_count": 14
  },
  {
   "cell_type": "code",
   "outputs": [
    {
     "ename": "KeyError",
     "evalue": "\"dict_keys(['name'])has existed\"",
     "output_type": "error",
     "traceback": [
      "\u001B[1;31m---------------------------------------------------------------------------\u001B[0m",
      "\u001B[1;31mKeyError\u001B[0m                                  Traceback (most recent call last)",
      "Cell \u001B[1;32mIn[15], line 3\u001B[0m\n\u001B[0;32m      2\u001B[0m     my_dict[\u001B[38;5;124m'\u001B[39m\u001B[38;5;124mname\u001B[39m\u001B[38;5;124m'\u001B[39m] \u001B[38;5;241m=\u001B[39m \u001B[38;5;124m'\u001B[39m\u001B[38;5;124mJack\u001B[39m\u001B[38;5;124m'\u001B[39m\n\u001B[1;32m----> 3\u001B[0m     my_dict[\u001B[38;5;124m'\u001B[39m\u001B[38;5;124mname\u001B[39m\u001B[38;5;124m'\u001B[39m] \u001B[38;5;241m=\u001B[39m \u001B[38;5;124m'\u001B[39m\u001B[38;5;124mTom\u001B[39m\u001B[38;5;124m'\u001B[39m\n\u001B[0;32m      4\u001B[0m \u001B[38;5;28;01mexcept\u001B[39;00m \u001B[38;5;167;01mKeyError\u001B[39;00m:\n",
      "Cell \u001B[1;32mIn[12], line 7\u001B[0m, in \u001B[0;36mSetOnceMappingMixin.__setitem__\u001B[1;34m(self, key, value)\u001B[0m\n\u001B[0;32m      6\u001B[0m \u001B[38;5;28;01mif\u001B[39;00m key \u001B[38;5;129;01min\u001B[39;00m \u001B[38;5;28mself\u001B[39m:\n\u001B[1;32m----> 7\u001B[0m     \u001B[38;5;28;01mraise\u001B[39;00m \u001B[38;5;167;01mKeyError\u001B[39;00m(\u001B[38;5;28mstr\u001B[39m(key)\u001B[38;5;241m+\u001B[39m\u001B[38;5;124m'\u001B[39m\u001B[38;5;124m is already exist!\u001B[39m\u001B[38;5;124m'\u001B[39m)\n\u001B[0;32m      8\u001B[0m \u001B[38;5;28;01mreturn\u001B[39;00m \u001B[38;5;28msuper\u001B[39m()\u001B[38;5;241m.\u001B[39m\u001B[38;5;21m__setitem__\u001B[39m(key,value)\n",
      "\u001B[1;31mKeyError\u001B[0m: 'name is already exist!'",
      "\nDuring handling of the above exception, another exception occurred:\n",
      "\u001B[1;31mKeyError\u001B[0m                                  Traceback (most recent call last)",
      "Cell \u001B[1;32mIn[15], line 5\u001B[0m\n\u001B[0;32m      3\u001B[0m     my_dict[\u001B[38;5;124m'\u001B[39m\u001B[38;5;124mname\u001B[39m\u001B[38;5;124m'\u001B[39m] \u001B[38;5;241m=\u001B[39m \u001B[38;5;124m'\u001B[39m\u001B[38;5;124mTom\u001B[39m\u001B[38;5;124m'\u001B[39m\n\u001B[0;32m      4\u001B[0m \u001B[38;5;28;01mexcept\u001B[39;00m \u001B[38;5;167;01mKeyError\u001B[39;00m:\n\u001B[1;32m----> 5\u001B[0m     \u001B[38;5;28;01mraise\u001B[39;00m \u001B[38;5;167;01mKeyError\u001B[39;00m(\u001B[38;5;28mstr\u001B[39m(my_dict\u001B[38;5;241m.\u001B[39mkeys()) \u001B[38;5;241m+\u001B[39m \u001B[38;5;124m'\u001B[39m\u001B[38;5;124mhas existed\u001B[39m\u001B[38;5;124m'\u001B[39m)\n",
      "\u001B[1;31mKeyError\u001B[0m: \"dict_keys(['name'])has existed\""
     ]
    }
   ],
   "source": [
    "try:\n",
    "    my_dict['name'] = 'Jack'\n",
    "    my_dict['name'] = 'Tom'\n",
    "except KeyError:\n",
    "    raise KeyError(str(my_dict.keys()) + 'has existed')"
   ],
   "metadata": {
    "collapsed": false,
    "ExecuteTime": {
     "end_time": "2024-03-02T07:24:05.970169200Z",
     "start_time": "2024-03-02T07:24:05.913593Z"
    }
   },
   "id": "c95360d81d858bf8",
   "execution_count": 15
  },
  {
   "cell_type": "code",
   "outputs": [
    {
     "name": "stdout",
     "output_type": "stream",
     "text": [
      "{'name': 'Jack'}\n"
     ]
    }
   ],
   "source": [
    "print(my_dict)"
   ],
   "metadata": {
    "collapsed": false,
    "ExecuteTime": {
     "end_time": "2024-03-02T07:24:14.106023400Z",
     "start_time": "2024-03-02T07:24:14.092955100Z"
    }
   },
   "id": "1b5fc2e20da5f88f",
   "execution_count": 16
  },
  {
   "cell_type": "code",
   "outputs": [],
   "source": [],
   "metadata": {
    "collapsed": false
   },
   "id": "e13738665240b4bd"
  },
  {
   "cell_type": "markdown",
   "source": [
    "#### 元编程和元类\n",
    "#### 对象是通过类创建的，类是通过元类创建的，元类提供了创建类的元信息。所有的类都直接或间接的继承自`object`，所有的元类都直接或间接的继承自`type`"
   ],
   "metadata": {
    "collapsed": false
   },
   "id": "c143f474bbd8ffc4"
  },
  {
   "cell_type": "code",
   "outputs": [],
   "source": [
    "import threading"
   ],
   "metadata": {
    "collapsed": false,
    "ExecuteTime": {
     "end_time": "2024-03-02T07:36:54.278084200Z",
     "start_time": "2024-03-02T07:36:54.264092Z"
    }
   },
   "id": "80098f0247d8f6b9",
   "execution_count": 17
  },
  {
   "cell_type": "code",
   "outputs": [],
   "source": [
    "# 例子：用元类实现单例模式。\n",
    "class SingletonMeta(type):\n",
    "    \n",
    "    def __init__(cls,*args,**kwargs):\n",
    "       cls._instance = None\n",
    "       cls._lock = threading.Lock()\n",
    "       super().__init__(*args,**kwargs)\n",
    "       \n",
    "    def __call__(cls, *args, **kwargs):\n",
    "        if cls._instance is None:\n",
    "            with cls._lock:\n",
    "                if cls._instance is None:\n",
    "                    cls._instance = super().__call__(*args,**kwargs)\n",
    "        return cls._instance\n",
    "class President(metaclass=SingletonMeta):\n",
    "    pass"
   ],
   "metadata": {
    "collapsed": false,
    "ExecuteTime": {
     "end_time": "2024-03-02T07:45:47.558810300Z",
     "start_time": "2024-03-02T07:45:47.538863Z"
    }
   },
   "id": "c052c6c45b7a8907",
   "execution_count": 23
  },
  {
   "cell_type": "code",
   "outputs": [],
   "source": [
    "president = President()"
   ],
   "metadata": {
    "collapsed": false,
    "ExecuteTime": {
     "end_time": "2024-03-02T07:46:27.157143600Z",
     "start_time": "2024-03-02T07:46:27.149133400Z"
    }
   },
   "id": "a6741df76d869ae4",
   "execution_count": 28
  },
  {
   "cell_type": "code",
   "outputs": [],
   "source": [
    "president._instance = 10"
   ],
   "metadata": {
    "collapsed": false,
    "ExecuteTime": {
     "end_time": "2024-03-02T07:46:43.480564300Z",
     "start_time": "2024-03-02T07:46:43.462611400Z"
    }
   },
   "id": "dddf7d379d59c378",
   "execution_count": 30
  },
  {
   "cell_type": "code",
   "outputs": [
    {
     "data": {
      "text/plain": "10"
     },
     "execution_count": 31,
     "metadata": {},
     "output_type": "execute_result"
    }
   ],
   "source": [
    "president._instance"
   ],
   "metadata": {
    "collapsed": false,
    "ExecuteTime": {
     "end_time": "2024-03-02T07:46:49.430017800Z",
     "start_time": "2024-03-02T07:46:49.395019200Z"
    }
   },
   "id": "5b2349474dc27a1d",
   "execution_count": 31
  },
  {
   "cell_type": "code",
   "outputs": [],
   "source": [
    "p2 = President()"
   ],
   "metadata": {
    "collapsed": false,
    "ExecuteTime": {
     "end_time": "2024-03-02T07:47:10.143833200Z",
     "start_time": "2024-03-02T07:47:10.128873900Z"
    }
   },
   "id": "9fb97cba1e77297f",
   "execution_count": 32
  },
  {
   "cell_type": "code",
   "outputs": [
    {
     "name": "stdout",
     "output_type": "stream",
     "text": [
      "10\n",
      "10\n",
      "20\n",
      "20\n"
     ]
    }
   ],
   "source": [
    "print(president._instance)\n",
    "print(p2._instance)\n",
    "p2._instance = 20\n",
    "print(president._instance)\n",
    "print(p2._instance)"
   ],
   "metadata": {
    "collapsed": false,
    "ExecuteTime": {
     "end_time": "2024-03-02T07:48:46.241272300Z",
     "start_time": "2024-03-02T07:48:46.233293300Z"
    }
   },
   "id": "3d83f483dd3e85c0",
   "execution_count": 35
  },
  {
   "cell_type": "code",
   "outputs": [],
   "source": [],
   "metadata": {
    "collapsed": false
   },
   "id": "32d88b36ce029a14"
  },
  {
   "cell_type": "markdown",
   "source": [
    "#### 迭代器和生成器\n",
    "#### 迭代器是实现了迭代器协议的对象\n",
    "#### Python中没有像`protocol`或`interface`这样的定义协议的关键字。\n",
    "#### Python中用魔术方法表示协议。\n",
    "#### `__iter__`和`__next__`魔术方法就是迭代器协议。"
   ],
   "metadata": {
    "collapsed": false
   },
   "id": "ed55daf70e799062"
  },
  {
   "cell_type": "code",
   "outputs": [],
   "source": [
    "class Fib:\n",
    "    \"\"\"\n",
    "    迭代器\n",
    "    斐波那契数列\n",
    "    \"\"\"\n",
    "    def __init__(self,num):\n",
    "        self.num = num\n",
    "        self.a,self.b = 0,1\n",
    "        self.idx = 0\n",
    "        \n",
    "    def __iter__(self):\n",
    "        return self\n",
    "    \n",
    "    def __next__(self):\n",
    "        if self.idx < self.num:\n",
    "            self.a,self.b = self.b,self.a+self.b\n",
    "            self.idx += 1\n",
    "            return self.a\n",
    "        raise StopIteration()"
   ],
   "metadata": {
    "collapsed": false,
    "ExecuteTime": {
     "end_time": "2024-03-05T07:57:54.867982900Z",
     "start_time": "2024-03-05T07:57:54.859006300Z"
    }
   },
   "id": "3a64895914960f13",
   "execution_count": 31
  },
  {
   "cell_type": "code",
   "outputs": [],
   "source": [
    "fib = Fib(2)"
   ],
   "metadata": {
    "collapsed": false,
    "ExecuteTime": {
     "end_time": "2024-03-05T07:47:41.819785800Z",
     "start_time": "2024-03-05T07:47:41.808815800Z"
    }
   },
   "id": "fd0b072dfe7dd432",
   "execution_count": 7
  },
  {
   "cell_type": "code",
   "outputs": [],
   "source": [
    "iter_fib = iter(fib)"
   ],
   "metadata": {
    "collapsed": false,
    "ExecuteTime": {
     "end_time": "2024-03-05T07:47:43.471328400Z",
     "start_time": "2024-03-05T07:47:43.434333400Z"
    }
   },
   "id": "9f172320248aad3d",
   "execution_count": 8
  },
  {
   "cell_type": "code",
   "outputs": [
    {
     "ename": "StopIteration",
     "evalue": "",
     "output_type": "error",
     "traceback": [
      "\u001B[1;31m---------------------------------------------------------------------------\u001B[0m",
      "\u001B[1;31mStopIteration\u001B[0m                             Traceback (most recent call last)",
      "Cell \u001B[1;32mIn[12], line 1\u001B[0m\n\u001B[1;32m----> 1\u001B[0m now_fib \u001B[38;5;241m=\u001B[39m \u001B[38;5;28;43mnext\u001B[39;49m\u001B[43m(\u001B[49m\u001B[43miter_fib\u001B[49m\u001B[43m)\u001B[49m\n\u001B[0;32m      2\u001B[0m \u001B[38;5;28mprint\u001B[39m(now_fib)\n",
      "Cell \u001B[1;32mIn[2], line 16\u001B[0m, in \u001B[0;36mFib.__next__\u001B[1;34m(self)\u001B[0m\n\u001B[0;32m     14\u001B[0m     \u001B[38;5;28mself\u001B[39m\u001B[38;5;241m.\u001B[39midx \u001B[38;5;241m+\u001B[39m\u001B[38;5;241m=\u001B[39m \u001B[38;5;241m1\u001B[39m\n\u001B[0;32m     15\u001B[0m     \u001B[38;5;28;01mreturn\u001B[39;00m \u001B[38;5;28mself\u001B[39m\u001B[38;5;241m.\u001B[39ma\n\u001B[1;32m---> 16\u001B[0m \u001B[38;5;28;01mraise\u001B[39;00m \u001B[38;5;167;01mStopIteration\u001B[39;00m()\n",
      "\u001B[1;31mStopIteration\u001B[0m: "
     ]
    }
   ],
   "source": [
    "now_fib = next(iter_fib)\n",
    "print(now_fib)"
   ],
   "metadata": {
    "collapsed": false,
    "ExecuteTime": {
     "end_time": "2024-03-05T07:48:52.302987800Z",
     "start_time": "2024-03-05T07:48:52.270750300Z"
    }
   },
   "id": "567c469efd16ba5c",
   "execution_count": 12
  },
  {
   "cell_type": "code",
   "outputs": [],
   "source": [
    "fib = Fib(5)"
   ],
   "metadata": {
    "collapsed": false,
    "ExecuteTime": {
     "end_time": "2024-03-05T08:00:22.858907400Z",
     "start_time": "2024-03-05T08:00:22.842099800Z"
    }
   },
   "id": "847767eb43de3b6c",
   "execution_count": 35
  },
  {
   "cell_type": "code",
   "outputs": [],
   "source": [
    "iter_fib = iter(fib)"
   ],
   "metadata": {
    "collapsed": false,
    "ExecuteTime": {
     "end_time": "2024-03-05T08:00:49.861184400Z",
     "start_time": "2024-03-05T08:00:49.850404800Z"
    }
   },
   "id": "640e4c0103367acd",
   "execution_count": 37
  },
  {
   "cell_type": "code",
   "outputs": [
    {
     "name": "stdout",
     "output_type": "stream",
     "text": [
      "1 1 2 3 5 "
     ]
    }
   ],
   "source": [
    "for i in iter_fib:\n",
    "    print(i,end=' ')"
   ],
   "metadata": {
    "collapsed": false,
    "ExecuteTime": {
     "end_time": "2024-03-05T07:57:05.401889300Z",
     "start_time": "2024-03-05T07:57:05.356884800Z"
    }
   },
   "id": "a7c72a0c71965eb8",
   "execution_count": 29
  },
  {
   "cell_type": "code",
   "outputs": [],
   "source": [
    "# 生成器是语法简化版的迭代器\n",
    "def fib_gen(num):\n",
    "    \"\"\"生成器\"\"\"\n",
    "    a,b = 0,1\n",
    "    for _ in range(num):\n",
    "        a, b = b, a+b\n",
    "        yield a"
   ],
   "metadata": {
    "collapsed": false,
    "ExecuteTime": {
     "end_time": "2024-03-05T08:29:50.954837400Z",
     "start_time": "2024-03-05T08:29:50.946475300Z"
    }
   },
   "id": "eb5683a72a304097",
   "execution_count": 102
  },
  {
   "cell_type": "code",
   "outputs": [],
   "source": [
    "gen_fib = fib_gen(5)"
   ],
   "metadata": {
    "collapsed": false,
    "ExecuteTime": {
     "end_time": "2024-03-05T08:29:51.378090200Z",
     "start_time": "2024-03-05T08:29:51.356701300Z"
    }
   },
   "id": "951af7ff9d49b43e",
   "execution_count": 103
  },
  {
   "cell_type": "code",
   "outputs": [
    {
     "data": {
      "text/plain": "generator"
     },
     "execution_count": 104,
     "metadata": {},
     "output_type": "execute_result"
    }
   ],
   "source": [
    "type(gen_fib)"
   ],
   "metadata": {
    "collapsed": false,
    "ExecuteTime": {
     "end_time": "2024-03-05T08:29:52.339016Z",
     "start_time": "2024-03-05T08:29:52.317710700Z"
    }
   },
   "id": "59c1340b31a9c4ab",
   "execution_count": 104
  },
  {
   "cell_type": "code",
   "outputs": [
    {
     "name": "stdout",
     "output_type": "stream",
     "text": [
      "1 1 2 3 5 "
     ]
    }
   ],
   "source": [
    "for i in gen_fib:\n",
    "    print(i,end=' ')"
   ],
   "metadata": {
    "collapsed": false,
    "ExecuteTime": {
     "end_time": "2024-03-05T08:29:52.902260900Z",
     "start_time": "2024-03-05T08:29:52.871788900Z"
    }
   },
   "id": "72ef45bbc721b448",
   "execution_count": 105
  },
  {
   "cell_type": "markdown",
   "source": [
    "#### 生成器进化为协程\n",
    "#### 生成器对象可以使用`send()`方法发送数据，发送的数据会成为生成器函数中通过`yield`表达式获得的值。这样，生成器就可以作为协程使用，协程简单的说就是可以相互协作的子程序"
   ],
   "metadata": {
    "collapsed": false
   },
   "id": "32eccbb733caafbc"
  },
  {
   "cell_type": "code",
   "outputs": [],
   "source": [
    "def cal_avg():\n",
    "    \"\"\"流式计算平均值\"\"\"\n",
    "    total,counter = 0,0\n",
    "    avg_value = None\n",
    "    while True:\n",
    "        value = yield avg_value\n",
    "        # print(value)\n",
    "        # print(counter)\n",
    "        total,counter = total + value, counter + 1\n",
    "        avg_value = total/counter"
   ],
   "metadata": {
    "collapsed": false,
    "ExecuteTime": {
     "end_time": "2024-03-05T08:43:49.597889500Z",
     "start_time": "2024-03-05T08:43:49.576443200Z"
    }
   },
   "id": "3fbd0e8868cedf8b",
   "execution_count": 132
  },
  {
   "cell_type": "code",
   "outputs": [],
   "source": [
    "cal_gen = cal_avg()"
   ],
   "metadata": {
    "collapsed": false,
    "ExecuteTime": {
     "end_time": "2024-03-05T08:43:49.741747900Z",
     "start_time": "2024-03-05T08:43:49.729699800Z"
    }
   },
   "id": "3315e7286629d79a",
   "execution_count": 133
  },
  {
   "cell_type": "code",
   "outputs": [
    {
     "data": {
      "text/plain": "generator"
     },
     "execution_count": 134,
     "metadata": {},
     "output_type": "execute_result"
    }
   ],
   "source": [
    "type(cal_gen)"
   ],
   "metadata": {
    "collapsed": false,
    "ExecuteTime": {
     "end_time": "2024-03-05T08:43:50.234584700Z",
     "start_time": "2024-03-05T08:43:50.207891100Z"
    }
   },
   "id": "cffe2a9a1cf220b2",
   "execution_count": 134
  },
  {
   "cell_type": "code",
   "outputs": [],
   "source": [
    "next(cal_gen)"
   ],
   "metadata": {
    "collapsed": false,
    "ExecuteTime": {
     "end_time": "2024-03-05T08:43:50.746347400Z",
     "start_time": "2024-03-05T08:43:50.724855700Z"
    }
   },
   "id": "f5b85b180ff032d1",
   "execution_count": 135
  },
  {
   "cell_type": "code",
   "outputs": [
    {
     "name": "stdout",
     "output_type": "stream",
     "text": [
      "10.0\n",
      "15.0\n",
      "20.0\n"
     ]
    }
   ],
   "source": [
    "for i in [10,20,30]:\n",
    "    print(cal_gen.send(i))"
   ],
   "metadata": {
    "collapsed": false,
    "ExecuteTime": {
     "end_time": "2024-03-05T08:43:51.254210300Z",
     "start_time": "2024-03-05T08:43:51.195603100Z"
    }
   },
   "id": "dc051f67d30e9eb0",
   "execution_count": 136
  },
  {
   "cell_type": "code",
   "outputs": [],
   "source": [],
   "metadata": {
    "collapsed": false
   },
   "id": "3bbb94fa44795f16"
  }
 ],
 "metadata": {
  "kernelspec": {
   "display_name": "Python 3",
   "language": "python",
   "name": "python3"
  },
  "language_info": {
   "codemirror_mode": {
    "name": "ipython",
    "version": 2
   },
   "file_extension": ".py",
   "mimetype": "text/x-python",
   "name": "python",
   "nbconvert_exporter": "python",
   "pygments_lexer": "ipython2",
   "version": "2.7.6"
  }
 },
 "nbformat": 4,
 "nbformat_minor": 5
}
