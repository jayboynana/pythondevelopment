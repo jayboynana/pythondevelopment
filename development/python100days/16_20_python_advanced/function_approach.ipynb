{
 "cells": [
  {
   "cell_type": "markdown",
   "source": [
    "### 函数进阶使用方法"
   ],
   "metadata": {
    "collapsed": false
   },
   "id": "6d1d82e4d740506d"
  },
  {
   "cell_type": "code",
   "outputs": [
    {
     "data": {
      "text/plain": "[4, 16, 36, 64]"
     },
     "execution_count": 1,
     "metadata": {},
     "output_type": "execute_result"
    }
   ],
   "source": [
    "# lambda,filter,map\n",
    "items = list(map(lambda x:x**2,filter(lambda x:x%2==0,range(1,10))))\n",
    "items"
   ],
   "metadata": {
    "collapsed": false,
    "ExecuteTime": {
     "end_time": "2024-02-26T07:38:52.959102800Z",
     "start_time": "2024-02-26T07:38:52.938302100Z"
    }
   },
   "id": "374867acb6a7da6f",
   "execution_count": 1
  },
  {
   "cell_type": "markdown",
   "source": [
    "#### 装饰器函数"
   ],
   "metadata": {
    "collapsed": false
   },
   "id": "2b946f5299494eb"
  },
  {
   "cell_type": "code",
   "outputs": [],
   "source": [
    "from functools import wraps\n",
    "from time import time,sleep"
   ],
   "metadata": {
    "collapsed": false,
    "ExecuteTime": {
     "end_time": "2024-02-28T08:13:41.523980100Z",
     "start_time": "2024-02-28T08:13:41.503927800Z"
    }
   },
   "id": "fe4907ceb5f7bc46",
   "execution_count": 4
  },
  {
   "cell_type": "code",
   "outputs": [],
   "source": [
    "def record(output):\n",
    "    '''可以参数化的装饰器'''\n",
    "    def decorator(func):\n",
    "        \n",
    "        @wraps(func)\n",
    "        def wrapper(*args, **kwargs):\n",
    "            start = time()\n",
    "            result = func(*args, **kwargs)\n",
    "            output(func.__name__, time()-start)\n",
    "            return result\n",
    "        return wrapper\n",
    "    \n",
    "    return decorator"
   ],
   "metadata": {
    "collapsed": false,
    "ExecuteTime": {
     "end_time": "2024-02-28T08:23:31.276827400Z",
     "start_time": "2024-02-28T08:23:31.264030400Z"
    }
   },
   "id": "90e8d843c39b9fee",
   "execution_count": 13
  },
  {
   "cell_type": "code",
   "outputs": [
    {
     "name": "stdout",
     "output_type": "stream",
     "text": [
      "hello world!\n",
      "1.0001490116119385\n",
      "<built-in method __sizeof__ of function object at 0x000001F3777DDAB0> 1.0001826286315918\n"
     ]
    }
   ],
   "source": [
    "@record(print)\n",
    "def pp():\n",
    "    start = time()\n",
    "    sleep(1)\n",
    "    end = time()\n",
    "    print('hello world!')\n",
    "    print(end-start)\n",
    "pp()"
   ],
   "metadata": {
    "collapsed": false,
    "ExecuteTime": {
     "end_time": "2024-02-28T08:33:14.478310500Z",
     "start_time": "2024-02-28T08:33:13.461471100Z"
    }
   },
   "id": "5ed9a76799854606",
   "execution_count": 21
  },
  {
   "cell_type": "code",
   "outputs": [],
   "source": [],
   "metadata": {
    "collapsed": false
   },
   "id": "1cbf68da9ce149fa"
  }
 ],
 "metadata": {
  "kernelspec": {
   "display_name": "Python 3",
   "language": "python",
   "name": "python3"
  },
  "language_info": {
   "codemirror_mode": {
    "name": "ipython",
    "version": 2
   },
   "file_extension": ".py",
   "mimetype": "text/x-python",
   "name": "python",
   "nbconvert_exporter": "python",
   "pygments_lexer": "ipython2",
   "version": "2.7.6"
  }
 },
 "nbformat": 4,
 "nbformat_minor": 5
}
